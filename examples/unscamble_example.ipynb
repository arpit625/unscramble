{
 "cells": [
  {
   "cell_type": "code",
   "execution_count": 1,
   "metadata": {},
   "outputs": [],
   "source": [
    "# Project Flow\n",
    "\n",
    "# import statements\n",
    "# Load Dictionary: Temp return hardcoded words\n",
    "# Input a word\n",
    "# Get all possible permutations.\n",
    "# Check if dictionary word exist and return the list\n",
    "# Variables: # of characters in a word( upto and exactly)\n",
    "# Create a dictionary for 2/3/4/5/... letter word, where key would be # of letters and value would be a list of word.\n",
    "    # Use: DefaultDict (https://docs.python.org/2/library/collections.html#collections.defaultdict)\n",
    "# Add the dictionary as compressed gz format and read it on the fly. Takes less space on github.    \n",
    "    \n",
    "# Future work:\n",
    "    # Do parallel processing to look up for words"
   ]
  },
  {
   "cell_type": "code",
   "execution_count": 2,
   "metadata": {},
   "outputs": [],
   "source": [
    "from itertools import permutations"
   ]
  },
  {
   "cell_type": "code",
   "execution_count": 3,
   "metadata": {},
   "outputs": [],
   "source": [
    "class Unscramble():\n",
    "    \"\"\"To Do\n",
    "    \"\"\"\n",
    "    \n",
    "    def __init__(self, word):\n",
    "        \"\"\"To Do\n",
    "        \"\"\"\n",
    "        self.word = word.lower()\n",
    "        self.generate_words()\n",
    "    \n",
    "    def load_dictionary(self):\n",
    "        \"\"\"To Do\n",
    "        \"\"\"\n",
    "        self.dictionary = ['hello', 'world', 'hell', 'ehll', 'ehl']\n",
    "#         return word_list\n",
    "    \n",
    "    \n",
    "    def get_word_lengths(self, upto):\n",
    "        \"\"\" To Do\n",
    "        \"\"\"\n",
    "        orig_word_len = len(self.word)\n",
    "        word_lengths = list(reversed(range(orig_word_len + 1)))\n",
    "        word_lengths = word_lengths[:-upto]\n",
    "        return word_lengths\n",
    "        \n",
    "    \n",
    "    def create_permutations(self, upto=3, exact_length=None):\n",
    "        \"\"\"To Do\n",
    "        \"\"\"\n",
    "        self._all_permutations = []\n",
    "        \n",
    "        # Returns a list of int which specify word lengths\n",
    "        self.word_lengths = self.get_word_lengths(upto)\n",
    "        \n",
    "        if exact_length is not None:\n",
    "            self.word_lengths = [exact_length]\n",
    "        \n",
    "        for length in self.word_lengths:\n",
    "            self.possible_words = permutations(self.word, length)\n",
    "            self.possible_words = map(lambda x: ''.join(x), list(self.possible_words))\n",
    "            self.possible_words = list(self.possible_words)\n",
    "            self._all_permutations.append(self.possible_words)\n",
    "            \n",
    "        self.possible_words = [word for word_list in self._all_permutations for word in word_list]\n",
    "        self.possible_words = list(set(self.possible_words))\n",
    "        return self.possible_words\n",
    "    \n",
    "    def total_permutations(self):\n",
    "        \"\"\"To Do\n",
    "        \"\"\"\n",
    "        return len(self.possible_words)\n",
    "            \n",
    "            \n",
    "    def find_words(self):\n",
    "        \"\"\"To Do\n",
    "        \"\"\"\n",
    "        self.actual_words = [word for word in self.possible_words if word in self.dictionary]\n",
    "        return self.actual_words\n",
    "        \n",
    "        \n",
    "    def generate_words(self):    \n",
    "        \"\"\"To Do\n",
    "        \"\"\"\n",
    "        \n",
    "        self.load_dictionary()\n",
    "        self.create_permutations()\n",
    "#         self.dict_words = self.find_words()\n",
    "        return self.find_words()\n",
    "             "
   ]
  },
  {
   "cell_type": "code",
   "execution_count": 4,
   "metadata": {},
   "outputs": [],
   "source": [
    "words = Unscramble(\"Hell\")"
   ]
  },
  {
   "cell_type": "code",
   "execution_count": 5,
   "metadata": {},
   "outputs": [
    {
     "data": {
      "text/plain": [
       "['ehl', 'ehll', 'hell']"
      ]
     },
     "execution_count": 5,
     "metadata": {},
     "output_type": "execute_result"
    }
   ],
   "source": [
    "words.generate_words()"
   ]
  },
  {
   "cell_type": "code",
   "execution_count": 6,
   "metadata": {},
   "outputs": [
    {
     "data": {
      "text/plain": [
       "['lle',\n",
       " 'lel',\n",
       " 'hlel',\n",
       " 'lhl',\n",
       " 'hel',\n",
       " 'elh',\n",
       " 'ehl',\n",
       " 'elhl',\n",
       " 'lelh',\n",
       " 'hle',\n",
       " 'llh',\n",
       " 'ehll',\n",
       " 'llhe',\n",
       " 'hll',\n",
       " 'ellh',\n",
       " 'lhel',\n",
       " 'lehl',\n",
       " 'lhe',\n",
       " 'lhle',\n",
       " 'lleh',\n",
       " 'ell',\n",
       " 'leh',\n",
       " 'hell',\n",
       " 'hlle']"
      ]
     },
     "execution_count": 6,
     "metadata": {},
     "output_type": "execute_result"
    }
   ],
   "source": [
    "words.possible_words"
   ]
  },
  {
   "cell_type": "code",
   "execution_count": 7,
   "metadata": {},
   "outputs": [
    {
     "data": {
      "text/plain": [
       "24"
      ]
     },
     "execution_count": 7,
     "metadata": {},
     "output_type": "execute_result"
    }
   ],
   "source": [
    "len(words.possible_words)"
   ]
  },
  {
   "cell_type": "code",
   "execution_count": null,
   "metadata": {},
   "outputs": [],
   "source": []
  },
  {
   "cell_type": "code",
   "execution_count": null,
   "metadata": {},
   "outputs": [],
   "source": []
  }
 ],
 "metadata": {
  "kernelspec": {
   "display_name": "Python 3",
   "language": "python",
   "name": "python3"
  },
  "language_info": {
   "codemirror_mode": {
    "name": "ipython",
    "version": 3
   },
   "file_extension": ".py",
   "mimetype": "text/x-python",
   "name": "python",
   "nbconvert_exporter": "python",
   "pygments_lexer": "ipython3",
   "version": "3.6.8"
  }
 },
 "nbformat": 4,
 "nbformat_minor": 2
}
